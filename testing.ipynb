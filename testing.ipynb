{
 "cells": [
  {
   "cell_type": "code",
   "execution_count": 1,
   "metadata": {},
   "outputs": [],
   "source": [
    "from stemmer import BanglaStemmer"
   ]
  },
  {
   "cell_type": "code",
   "execution_count": 2,
   "metadata": {},
   "outputs": [
    {
     "name": "stdout",
     "output_type": "stream",
     "text": [
      "applied first rules..\n",
      "applied Fifth rules..\n",
      "In here!!!!\n",
      "In here IF\n",
      "আ\n",
      "In here else\n",
      "আশা\n"
     ]
    }
   ],
   "source": [
    "#word = 'ভগবান'\n",
    "#word = 'দুশ্চিন্ত'\n",
    "word = 'অত্যাচার'\n",
    "# দুর্ঘটনা = ঘটনা\n",
    "stm = BanglaStemmer().stem(word)\n",
    "print(stm)"
   ]
  }
 ],
 "metadata": {
  "kernelspec": {
   "display_name": "scraper",
   "language": "python",
   "name": "python3"
  },
  "language_info": {
   "codemirror_mode": {
    "name": "ipython",
    "version": 3
   },
   "file_extension": ".py",
   "mimetype": "text/x-python",
   "name": "python",
   "nbconvert_exporter": "python",
   "pygments_lexer": "ipython3",
   "version": "3.9.16"
  },
  "orig_nbformat": 4
 },
 "nbformat": 4,
 "nbformat_minor": 2
}
