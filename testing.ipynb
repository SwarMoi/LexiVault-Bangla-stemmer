{
 "cells": [
  {
   "cell_type": "code",
   "execution_count": 1,
   "metadata": {},
   "outputs": [],
   "source": [
    "from stemmer import BanglaStemmer"
   ]
  },
  {
   "cell_type": "code",
   "execution_count": 4,
   "metadata": {},
   "outputs": [
    {
     "name": "stdout",
     "output_type": "stream",
     "text": [
      "নতুন\n"
     ]
    }
   ],
   "source": [
    "#word = 'ভগবান'\n",
    "#word = 'দুশ্চিন্ত'\n",
    "word = 'নতুন'\n",
    "# দুর্ঘটনা = ঘটনা\n",
    "stm = BanglaStemmer().stem(word)\n",
    "print(stm)"
   ]
  },
  {
   "cell_type": "code",
   "execution_count": 12,
   "metadata": {},
   "outputs": [
    {
     "name": "stdout",
     "output_type": "stream",
     "text": [
      "নতুন\n",
      "applied first rules..\n",
      "রাজধানী\n",
      "applied fourth rules..\n",
      "স্থাপন\n",
      "জন্য\n",
      "তিনি\n",
      "applied fourth rules..\n",
      "গঙ্গাতীরবর্তী\n",
      "applied first rules..\n",
      "পাটলীপুত্র\n",
      "নির্বাচিত\n",
      "applied fourth rules..\n",
      "কর\n",
      "এবং\n",
      "applied first rules..\n",
      "সেখানে\n",
      "applied Fifth rules..\n",
      "\n",
      "গ\n",
      "নির্মাণ\n",
      "applied fourth rules..\n",
      "করেন।\n",
      "applied third rules..\n",
      "applied fourth rules..\n",
      "applied Fifth rules..\n",
      "\n",
      "যোগিত\n",
      "applied fourth rules..\n",
      "শাষ\n",
      "applied fourth rules..\n",
      "applied Fifth rules..\n",
      "\n",
      "ভাগ্য\n",
      "applied fourth rules..\n",
      "শিক\n",
      "applied fourth rules..\n",
      "হল\n",
      "তিনি।\n"
     ]
    }
   ],
   "source": [
    "sentences = [\"নতুন রাজধানী স্থাপনের জন্য তিনি গঙ্গাতীরবর্তী পাটলীপুত্রকে নির্বাচিত করেন এবং সেখানেই দুর্গ নির্মাণ করেন।\",\n",
    "            \"প্রতিযোগিতার শেষে দুর্ভাগ্যের শিকার হলেন তিনি।\"]\n",
    "# sen = sentence.split(\" \")\n",
    "\n",
    "dict = {}\n",
    "\n",
    "for sentence in sentences:\n",
    "    sen = sentence.split(\" \")\n",
    "    for word in sen:\n",
    "\n",
    "        #print(word)\n",
    "        temp = {}\n",
    "        stm = BanglaStemmer().stem(word)\n",
    "        print(stm)\n",
    "        temp = {\n",
    "            word : stm\n",
    "        }\n",
    "        dict.update(temp)\n"
   ]
  },
  {
   "cell_type": "code",
   "execution_count": 13,
   "metadata": {},
   "outputs": [
    {
     "name": "stdout",
     "output_type": "stream",
     "text": [
      "{'নতুন': 'নতুন', 'রাজধানী': 'রাজধানী', 'স্থাপনের': 'স্থাপন', 'জন্য': 'জন্য', 'তিনি': 'তিনি', 'গঙ্গাতীরবর্তী': 'গঙ্গাতীরবর্তী', 'পাটলীপুত্রকে': 'পাটলীপুত্র', 'নির্বাচিত': 'নির্বাচিত', 'করেন': 'কর', 'এবং': 'এবং', 'সেখানেই': 'সেখানে', 'দুর্গ': 'গ', 'নির্মাণ': 'নির্মাণ', 'করেন।': 'করেন।', 'প্রতিযোগিতার': 'যোগিত', 'শেষে': 'শাষ', 'দুর্ভাগ্যের': 'ভাগ্য', 'শিকার': 'শিক', 'হলেন': 'হল', 'তিনি।': 'তিনি।'}\n"
     ]
    }
   ],
   "source": [
    "print(dict)"
   ]
  }
 ],
 "metadata": {
  "kernelspec": {
   "display_name": "scraper",
   "language": "python",
   "name": "python3"
  },
  "language_info": {
   "codemirror_mode": {
    "name": "ipython",
    "version": 3
   },
   "file_extension": ".py",
   "mimetype": "text/x-python",
   "name": "python",
   "nbconvert_exporter": "python",
   "pygments_lexer": "ipython3",
   "version": "3.9.16"
  },
  "orig_nbformat": 4
 },
 "nbformat": 4,
 "nbformat_minor": 2
}
