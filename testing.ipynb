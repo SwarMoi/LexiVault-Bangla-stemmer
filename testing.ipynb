{
 "cells": [
  {
   "cell_type": "code",
   "execution_count": 1,
   "metadata": {},
   "outputs": [],
   "source": [
    "from stemmer import BanglaStemmer"
   ]
  },
  {
   "cell_type": "code",
   "execution_count": 4,
   "metadata": {},
   "outputs": [
    {
     "name": "stdout",
     "output_type": "stream",
     "text": [
      "নতুন\n"
     ]
    }
   ],
   "source": [
    "#word = 'ভগবান'\n",
    "#word = 'দুশ্চিন্ত'\n",
    "word = 'নতুন'\n",
    "# দুর্ঘটনা = ঘটনা\n",
    "stm = BanglaStemmer().stem(word)\n",
    "print(stm)"
   ]
  },
  {
   "cell_type": "code",
   "execution_count": 8,
   "metadata": {},
   "outputs": [
    {
     "name": "stdout",
     "output_type": "stream",
     "text": [
      "নতুন\n",
      "applied first rules..\n",
      "রাজধানী\n",
      "applied fourth rules..\n",
      "স্থাপন\n",
      "জন্য\n",
      "তিনি\n",
      "applied fourth rules..\n",
      "গঙ্গাতীরবর্তী\n",
      "applied first rules..\n",
      "পাটলীপুত্র\n",
      "নির্বাচিত\n",
      "applied fourth rules..\n",
      "কর\n",
      "এবং\n",
      "applied first rules..\n",
      "সেখানে\n",
      "applied Fifth rules..\n",
      "\n",
      "গ\n",
      "নির্মাণ\n",
      "applied fourth rules..\n",
      "করেন।\n"
     ]
    }
   ],
   "source": [
    "sentence = \"নতুন রাজধানী স্থাপনের জন্য তিনি গঙ্গাতীরবর্তী পাটলীপুত্রকে নির্বাচিত করেন এবং সেখানেই দুর্গ নির্মাণ করেন।\"\n",
    "sen = sentence.split(\" \")\n",
    "\n",
    "dict = {}\n",
    "\n",
    "for word in sen:\n",
    "    #print(word)\n",
    "    temp = {}\n",
    "    stm = BanglaStemmer().stem(word)\n",
    "    print(stm)\n",
    "    temp = {\n",
    "        word : stm\n",
    "    }\n",
    "    dict.update(temp)\n"
   ]
  },
  {
   "cell_type": "code",
   "execution_count": 9,
   "metadata": {},
   "outputs": [
    {
     "name": "stdout",
     "output_type": "stream",
     "text": [
      "{'নতুন': 'নতুন', 'রাজধানী': 'রাজধানী', 'স্থাপনের': 'স্থাপন', 'জন্য': 'জন্য', 'তিনি': 'তিনি', 'গঙ্গাতীরবর্তী': 'গঙ্গাতীরবর্তী', 'পাটলীপুত্রকে': 'পাটলীপুত্র', 'নির্বাচিত': 'নির্বাচিত', 'করেন': 'কর', 'এবং': 'এবং', 'সেখানেই': 'সেখানে', 'দুর্গ': 'গ', 'নির্মাণ': 'নির্মাণ', 'করেন।': 'করেন।'}\n"
     ]
    }
   ],
   "source": [
    "print(dict)"
   ]
  }
 ],
 "metadata": {
  "kernelspec": {
   "display_name": "scraper",
   "language": "python",
   "name": "python3"
  },
  "language_info": {
   "codemirror_mode": {
    "name": "ipython",
    "version": 3
   },
   "file_extension": ".py",
   "mimetype": "text/x-python",
   "name": "python",
   "nbconvert_exporter": "python",
   "pygments_lexer": "ipython3",
   "version": "3.9.16"
  },
  "orig_nbformat": 4
 },
 "nbformat": 4,
 "nbformat_minor": 2
}
